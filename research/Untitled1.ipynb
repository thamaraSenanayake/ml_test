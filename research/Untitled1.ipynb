{
 "cells": [
  {
   "cell_type": "code",
   "execution_count": 46,
   "id": "faeced3b",
   "metadata": {},
   "outputs": [],
   "source": [
    "import json # will be needed for saving preprocessing details\n",
    "import numpy as np # for data manipulation\n",
    "import pandas as pd # for data manipulation\n",
    "from sklearn import preprocessing\n",
    "from sklearn.model_selection import train_test_split # will be used for data split\n",
    "from sklearn.preprocessing import LabelEncoder # for preprocessing\n",
    "from sklearn.ensemble import RandomForestClassifier # for training the algorithm\n",
    "from sklearn.ensemble import ExtraTreesClassifier # for training the algorithm\n",
    "import joblib # for saving algorithm and preprocessing objects"
   ]
  },
  {
   "cell_type": "code",
   "execution_count": 20,
   "id": "d11a2f0c",
   "metadata": {},
   "outputs": [
    {
     "data": {
      "text/html": [
       "<div>\n",
       "<style scoped>\n",
       "    .dataframe tbody tr th:only-of-type {\n",
       "        vertical-align: middle;\n",
       "    }\n",
       "\n",
       "    .dataframe tbody tr th {\n",
       "        vertical-align: top;\n",
       "    }\n",
       "\n",
       "    .dataframe thead th {\n",
       "        text-align: right;\n",
       "    }\n",
       "</style>\n",
       "<table border=\"1\" class=\"dataframe\">\n",
       "  <thead>\n",
       "    <tr style=\"text-align: right;\">\n",
       "      <th></th>\n",
       "      <th>itemId</th>\n",
       "      <th>qty</th>\n",
       "      <th>size</th>\n",
       "      <th>selectTemperature</th>\n",
       "      <th>typeOfMilk</th>\n",
       "      <th>temperature</th>\n",
       "      <th>selectToppings</th>\n",
       "      <th>selectBeans</th>\n",
       "      <th>extra</th>\n",
       "      <th>extraShotCount</th>\n",
       "      <th>type</th>\n",
       "      <th>time</th>\n",
       "    </tr>\n",
       "  </thead>\n",
       "  <tbody>\n",
       "    <tr>\n",
       "      <th>0</th>\n",
       "      <td>1382</td>\n",
       "      <td>1</td>\n",
       "      <td>1</td>\n",
       "      <td>0</td>\n",
       "      <td>NaN</td>\n",
       "      <td>1</td>\n",
       "      <td>NaN</td>\n",
       "      <td>NaN</td>\n",
       "      <td>NaN</td>\n",
       "      <td>0</td>\n",
       "      <td>Coffee</td>\n",
       "      <td>11.0</td>\n",
       "    </tr>\n",
       "    <tr>\n",
       "      <th>1</th>\n",
       "      <td>1382</td>\n",
       "      <td>1</td>\n",
       "      <td>1</td>\n",
       "      <td>0</td>\n",
       "      <td>NaN</td>\n",
       "      <td>1</td>\n",
       "      <td>NaN</td>\n",
       "      <td>NaN</td>\n",
       "      <td>NaN</td>\n",
       "      <td>0</td>\n",
       "      <td>Coffee</td>\n",
       "      <td>13.0</td>\n",
       "    </tr>\n",
       "    <tr>\n",
       "      <th>2</th>\n",
       "      <td>1382</td>\n",
       "      <td>1</td>\n",
       "      <td>1</td>\n",
       "      <td>0</td>\n",
       "      <td>NaN</td>\n",
       "      <td>1</td>\n",
       "      <td>NaN</td>\n",
       "      <td>NaN</td>\n",
       "      <td>NaN</td>\n",
       "      <td>0</td>\n",
       "      <td>Coffee</td>\n",
       "      <td>11.0</td>\n",
       "    </tr>\n",
       "    <tr>\n",
       "      <th>3</th>\n",
       "      <td>1411</td>\n",
       "      <td>2</td>\n",
       "      <td>0</td>\n",
       "      <td>0</td>\n",
       "      <td>Soy milk</td>\n",
       "      <td>1</td>\n",
       "      <td>Chocolate Dust,</td>\n",
       "      <td>NaN</td>\n",
       "      <td>Sugar\\tBrown Sugar Count: 1\\nExtra Shot\\t1\\nEx...</td>\n",
       "      <td>0</td>\n",
       "      <td>Coffee</td>\n",
       "      <td>39.0</td>\n",
       "    </tr>\n",
       "    <tr>\n",
       "      <th>4</th>\n",
       "      <td>1409</td>\n",
       "      <td>1</td>\n",
       "      <td>1</td>\n",
       "      <td>0</td>\n",
       "      <td>Coconut Milk</td>\n",
       "      <td>1</td>\n",
       "      <td>Mint Leaf,</td>\n",
       "      <td>Arabica &amp; Robusta</td>\n",
       "      <td>Extra Flavour\\tChocolate Syrup</td>\n",
       "      <td>0</td>\n",
       "      <td>Coffee</td>\n",
       "      <td>20.0</td>\n",
       "    </tr>\n",
       "  </tbody>\n",
       "</table>\n",
       "</div>"
      ],
      "text/plain": [
       "   itemId  qty  size  selectTemperature    typeOfMilk  temperature  \\\n",
       "0    1382    1     1                  0           NaN            1   \n",
       "1    1382    1     1                  0           NaN            1   \n",
       "2    1382    1     1                  0           NaN            1   \n",
       "3    1411    2     0                  0      Soy milk            1   \n",
       "4    1409    1     1                  0  Coconut Milk            1   \n",
       "\n",
       "    selectToppings        selectBeans  \\\n",
       "0              NaN                NaN   \n",
       "1              NaN                NaN   \n",
       "2              NaN                NaN   \n",
       "3  Chocolate Dust,                NaN   \n",
       "4       Mint Leaf,  Arabica & Robusta   \n",
       "\n",
       "                                               extra  extraShotCount    type  \\\n",
       "0                                                NaN               0  Coffee   \n",
       "1                                                NaN               0  Coffee   \n",
       "2                                                NaN               0  Coffee   \n",
       "3  Sugar\\tBrown Sugar Count: 1\\nExtra Shot\\t1\\nEx...               0  Coffee   \n",
       "4                     Extra Flavour\\tChocolate Syrup               0  Coffee   \n",
       "\n",
       "   time  \n",
       "0  11.0  \n",
       "1  13.0  \n",
       "2  11.0  \n",
       "3  39.0  \n",
       "4  20.0  "
      ]
     },
     "execution_count": 20,
     "metadata": {},
     "output_type": "execute_result"
    }
   ],
   "source": [
    "df = pd.read_csv('myCsv.csv', skipinitialspace=True)\n",
    "x_cols = [c for c in df.columns if c != 'time']\n",
    "# set input matrix and target column\n",
    "X = df[x_cols]\n",
    "y = df['time']\n",
    "# show first rows of data\n",
    "df.head()"
   ]
  },
  {
   "cell_type": "code",
   "execution_count": 34,
   "id": "68ed2262",
   "metadata": {},
   "outputs": [],
   "source": [
    "# data split train / test\n",
    "X_train, X_test, y_train, y_test = train_test_split(X, y, test_size = 0.7)"
   ]
  },
  {
   "cell_type": "code",
   "execution_count": 35,
   "id": "f705ae1d",
   "metadata": {},
   "outputs": [
    {
     "name": "stdout",
     "output_type": "stream",
     "text": [
      "{'itemId': 1415, 'qty': 1, 'size': 0, 'selectTemperature': 0, 'typeOfMilk': 'Full Cream Milk', 'temperature': 1, 'selectToppings': 'Cinnamon,', 'selectBeans': 'Arabica', 'extra': 'Extra Shot\\t1\\n', 'extraShotCount': 0, 'type': 'Coffee'}\n"
     ]
    }
   ],
   "source": [
    "# fill missing values\n",
    "train_mode = dict(X_train.mode().iloc[0])\n",
    "X_train = X_train.fillna(train_mode)\n",
    "print(train_mode)"
   ]
  },
  {
   "cell_type": "code",
   "execution_count": 43,
   "id": "c01b9a5e",
   "metadata": {},
   "outputs": [],
   "source": [
    "encoders = {}\n",
    "for column in ['size', 'selectTemperature','typeOfMilk','selectToppings','selectBeans','extra','extraShotCount',\n",
    "                'temperature', 'type'\n",
    "            ]:\n",
    "    categorical_convert = LabelEncoder()\n",
    "    X_train[column] = categorical_convert.fit_transform(X_train[column])\n",
    "    encoders[column] = categorical_convert"
   ]
  },
  {
   "cell_type": "code",
   "execution_count": 47,
   "id": "c5f41f79",
   "metadata": {},
   "outputs": [],
   "source": [
    "# train the Random Forest algorithm\n",
    "lab = preprocessing.LabelEncoder()\n",
    "y_transformed = lab.fit_transform(y_train)\n",
    "\n",
    "rf = RandomForestClassifier(max_depth = 1)\n",
    "rf = rf.fit(X_train, y_transformed)"
   ]
  },
  {
   "cell_type": "code",
   "execution_count": 48,
   "id": "e5c5631d",
   "metadata": {},
   "outputs": [
    {
     "data": {
      "text/plain": [
       "['./time_random_forest.joblib']"
      ]
     },
     "execution_count": 48,
     "metadata": {},
     "output_type": "execute_result"
    }
   ],
   "source": [
    "joblib.dump(train_mode, \"./time_train_mode.joblib\", compress=True)\n",
    "joblib.dump(encoders, \"./time_encoders.joblib\", compress=True)\n",
    "joblib.dump(rf, \"./time_random_forest.joblib\", compress=True)"
   ]
  },
  {
   "cell_type": "code",
   "execution_count": null,
   "id": "45666c4e",
   "metadata": {},
   "outputs": [],
   "source": []
  }
 ],
 "metadata": {
  "kernelspec": {
   "display_name": "venv",
   "language": "python",
   "name": "venv"
  },
  "language_info": {
   "codemirror_mode": {
    "name": "ipython",
    "version": 3
   },
   "file_extension": ".py",
   "mimetype": "text/x-python",
   "name": "python",
   "nbconvert_exporter": "python",
   "pygments_lexer": "ipython3",
   "version": "3.9.6"
  }
 },
 "nbformat": 4,
 "nbformat_minor": 5
}
